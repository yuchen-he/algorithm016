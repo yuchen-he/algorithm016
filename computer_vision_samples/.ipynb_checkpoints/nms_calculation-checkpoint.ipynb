{
 "cells": [
  {
   "cell_type": "code",
   "execution_count": 66,
   "metadata": {},
   "outputs": [],
   "source": [
    "import numpy as np\n",
    "import matplotlib.pyplot as plt"
   ]
  },
  {
   "cell_type": "code",
   "execution_count": 81,
   "metadata": {},
   "outputs": [],
   "source": [
    "def draw_box(boxes, c='k'):\n",
    "    x1 = boxes[:,0]\n",
    "    y1 = boxes[:,1]\n",
    "    x2 = boxes[:,2]\n",
    "    y2 = boxes[:,3]\n",
    "    \n",
    "    plt.plot([x1,x2], [y1,y1], c)\n",
    "    plt.plot([x1,x1], [y1,y2], c)\n",
    "    plt.plot([x1,x2], [y2,y2], c)\n",
    "    plt.plot([x2,x2], [y1,y2], c)\n",
    "    plt.title(\"nms\")"
   ]
  },
  {
   "cell_type": "code",
   "execution_count": 82,
   "metadata": {},
   "outputs": [],
   "source": [
    "def nms_calculation(dets, thresh):\n",
    "    # 先把所有bbox的每一列要素提取出来（为了之后比较score方便）\n",
    "    x1 = dets[:, 0]\n",
    "    x2 = dets[:, 1]\n",
    "    y1 = dets[:, 2]\n",
    "    y2 = dets[:, 3]\n",
    "    score = dets[:, 4]\n",
    "    area = (x2-x1+1) * (y2-y1+1)\n",
    "    \n",
    "    # 按score顺序提取bbox的index\n",
    "    idx = np.argsort(score)[::-1]                                   # 注意：np.argsort输出的是从小到大的排序，所以把它倒序一下\n",
    "    res = []\n",
    "    \n",
    "    while idx.size > 0:\n",
    "        # 每次把当前score排第一的bbox取出来放入res中\n",
    "        print(\"ranked idx: \", idx)\n",
    "        max_idx = idx[0]\n",
    "        print(\"max_index: \", max_idx)\n",
    "        res.append(max_idx)\n",
    "        \n",
    "        # 然后计算其他所有bbox与它的iou\n",
    "        x_min = np.maximum(x1[max_idx], x1[idx[1:]])        # 利用广播机制进行1对多计算，x_min结果也是一个与idx[1:]对齐的向量\n",
    "        x_max = np.minimum(x2[max_idx], x2[idx[1:]])\n",
    "        y_min = np.maximum(y1[max_idx], y1[idx[1:]])\n",
    "        y_max = np.minimum(y2[max_idx], y2[idx[1:]])\n",
    "        overlap = np.maximum(0, x_max - x_min + 1) * np.maximum(0, y_max - y_min + 1)\n",
    "        iou = overlap / (area[max_idx] + area[idx[1:]] - overlap)\n",
    "\n",
    "        # 然后把与其IoU > thresh的bbox删除掉\n",
    "        print(\"IoU: \", iou, \"shape: \", iou.shape)\n",
    "        keep_idx = np.where(iou <= thresh)[0]              # 关键点：这里np.where(iou <= thresh)[0] 是一个固定写法，用于提取符合条件的index\n",
    "        print(\"keep_idx: \", keep_idx)\n",
    "        print(\" \")\n",
    "        idx = idx[keep_idx + 1]                                   # 这里需要+1，因为iou计算时的下标0~N对应的是idx中的下标1～N+1\n",
    "    \n",
    "    # 最后输出res\n",
    "    return res"
   ]
  },
  {
   "cell_type": "code",
   "execution_count": 85,
   "metadata": {},
   "outputs": [
    {
     "name": "stdout",
     "output_type": "stream",
     "text": [
      "ranked idx:  [2 5 4 1 3 0]\n",
      "max_index:  2\n",
      "IoU:  [0.03846154 0.         0.         0.         0.        ] shape:  (5,)\n",
      "keep_idx:  [0 1 2 3 4]\n",
      " \n",
      "ranked idx:  [5 4 1 3 0]\n",
      "max_index:  5\n",
      "IoU:  [0.01734104 0.         0.         0.        ] shape:  (4,)\n",
      "keep_idx:  [0 1 2 3]\n",
      " \n",
      "ranked idx:  [4 1 3 0]\n",
      "max_index:  4\n",
      "IoU:  [0. 0. 0.] shape:  (3,)\n",
      "keep_idx:  [0 1 2]\n",
      " \n",
      "ranked idx:  [1 3 0]\n",
      "max_index:  1\n",
      "IoU:  [0. 0.] shape:  (2,)\n",
      "keep_idx:  [0 1]\n",
      " \n",
      "ranked idx:  [3 0]\n",
      "max_index:  3\n",
      "IoU:  [1.] shape:  (1,)\n",
      "keep_idx:  []\n",
      " \n",
      "[2, 5, 4, 1, 3]\n"
     ]
    },
    {
     "data": {
      "image/png": "[encoded data removed]",
      "text/plain": [
       "<Figure size 432x288 with 2 Axes>"
      ]
     },
     "metadata": {},
     "output_type": "display_data"
    }
   ],
   "source": [
    "dets = np.array([[100,100,210,210,0.72],\n",
    "        [250,250,420,420,0.8],\n",
    "        [220,220,320,330,0.92],\n",
    "        [100,100,210,210,0.72],\n",
    "        [230,240,325,330,0.81],\n",
    "        [220,230,315,340,0.9]])\n",
    "\n",
    "plt.figure(1)\n",
    "ax1 = plt.subplot(1,2,1)\n",
    "ax2 = plt.subplot(1,2,2)\n",
    " \n",
    "# 绘制原始bbox\n",
    "plt.sca(ax1)\n",
    "draw_box(dets)\n",
    "\n",
    "# 进行nms处理\n",
    "keep_idx = nms_calculation(dets, 0.5)\n",
    "print(keep_idx)\n",
    "\n",
    "# 绘制nms后的bbox\n",
    "plt.sca(ax2)\n",
    "draw_box(dets[keep_idx], 'r')\n",
    "plt.show()"
   ]
  },
  {
   "cell_type": "code",
   "execution_count": null,
   "metadata": {},
   "outputs": [],
   "source": []
  },
  {
   "cell_type": "code",
   "execution_count": null,
   "metadata": {},
   "outputs": [],
   "source": []
  }
 ],
 "metadata": {
  "kernelspec": {
   "display_name": "Python 3",
   "language": "python",
   "name": "python3"
  },
  "language_info": {
   "codemirror_mode": {
    "name": "ipython",
    "version": 3
   },
   "file_extension": ".py",
   "mimetype": "text/x-python",
   "name": "python",
   "nbconvert_exporter": "python",
   "pygments_lexer": "ipython3",
   "version": "3.6.5"
  }
 },
 "nbformat": 4,
 "nbformat_minor": 2
}
