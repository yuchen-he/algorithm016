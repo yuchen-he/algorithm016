{
 "cells": [
  {
   "cell_type": "code",
   "execution_count": 25,
   "metadata": {},
   "outputs": [],
   "source": [
    "import numpy as np"
   ]
  },
  {
   "cell_type": "code",
   "execution_count": 26,
   "metadata": {},
   "outputs": [],
   "source": [
    "def get_IoU(pred_bbox, gt_bbox):\n",
    "    # 先转化成int坐标\n",
    "    pred_bbox = [int(i) for i in pred_bbox]\n",
    "    gt_bbox = [int(i) for i in gt_bbox]\n",
    "    \n",
    "    # 先算intersection的四个坐标\n",
    "    x_min = max(pred_bbox[0], gt_bbox[0])\n",
    "    x_max = min(pred_bbox[2], gt_bbox[2])\n",
    "    y_min = max(pred_bbox[1], gt_bbox[1])\n",
    "    y_max = min(pred_bbox[3], gt_bbox[3])\n",
    "    \n",
    "    # 然后算宽和高（但是有可能两个框不交互，这种情况置0的话，之后算iou就能算出是0了）\n",
    "    inter_width = max(0, x_max - x_min + 1)\n",
    "    inter_height = max(0, y_max - y_min + 1)\n",
    "    inter_area = inter_width * inter_height\n",
    "    print(f\"intersection area: {inter_area}\")\n",
    "    \n",
    "    # 计算IoU\n",
    "    pred_area = (pred_bbox[2] - pred_bbox[0]) * (pred_bbox[3] - pred_bbox[1])\n",
    "    gt_area = (gt_bbox[2] - gt_bbox[0]) * (gt_bbox[3] - gt_bbox[1])\n",
    "    \n",
    "    print(f\"pred_box area: {pred_area}\")\n",
    "    print(f\"gt_box area: {gt_area}\")\n",
    "    return inter_area / (pred_area + gt_area - inter_area)"
   ]
  },
  {
   "cell_type": "code",
   "execution_count": 27,
   "metadata": {},
   "outputs": [
    {
     "name": "stdout",
     "output_type": "stream",
     "text": [
      "intersection area: 441\n",
      "pred_box area: 2000\n",
      "gt_box area: 3500\n",
      "0.08717137774263689\n"
     ]
    }
   ],
   "source": [
    "pred_bbox = np.array([50, 50, 90, 100])   # top-left: <50, 50>, bottom-down: <90, 100>, <x-axis, y-axis>\n",
    "gt_bbox = np.array([70, 80, 120, 150])\n",
    "print(get_IoU(pred_bbox, gt_bbox))"
   ]
  },
  {
   "cell_type": "code",
   "execution_count": null,
   "metadata": {},
   "outputs": [],
   "source": []
  }
 ],
 "metadata": {
  "kernelspec": {
   "display_name": "Python 3",
   "language": "python",
   "name": "python3"
  },
  "language_info": {
   "codemirror_mode": {
    "name": "ipython",
    "version": 3
   },
   "file_extension": ".py",
   "mimetype": "text/x-python",
   "name": "python",
   "nbconvert_exporter": "python",
   "pygments_lexer": "ipython3",
   "version": "3.6.5"
  }
 },
 "nbformat": 4,
 "nbformat_minor": 2
}
