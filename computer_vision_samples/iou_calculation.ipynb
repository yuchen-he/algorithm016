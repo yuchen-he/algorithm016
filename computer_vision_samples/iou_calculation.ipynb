{
 "cells": [
  {
   "cell_type": "code",
   "execution_count": 1,
   "metadata": {},
   "outputs": [],
   "source": [
    "import numpy as np\n",
    "import matplotlib.pyplot as plt"
   ]
  },
  {
   "cell_type": "code",
   "execution_count": 39,
   "metadata": {},
   "outputs": [],
   "source": [
    "def show_IoU(pred_bbox, gt_bbox, inter_box):\n",
    "    plt.figure()\n",
    "    ax = plt.subplot(111)\n",
    "    \n",
    "    box1 = plt.Rectangle(xy=(pred_bbox[0], pred_bbox[3]), height=pred_bbox[1] - pred_bbox[3], width=pred_bbox[2] - pred_bbox[0], color='r')\n",
    "    box2 = plt.Rectangle(xy=(gt_bbox[0], gt_bbox[3]), height=gt_bbox[1] - gt_bbox[3], width=gt_bbox[2] - gt_bbox[0], color='g')\n",
    "    box3 = plt.Rectangle(xy=(inter_box[0], inter_box[3]), height=inter_box[1] - inter_box[3], width=inter_box[2] - inter_box[0], linewidth=3,edgecolor=\"b\")\n",
    "    ax.add_patch(box1)\n",
    "    ax.add_patch(box2)\n",
    "    ax.add_patch(box3)\n",
    "    \n",
    "    plt.xlim(min(pred_bbox[0], gt_bbox[0], inter_box[0]) - 10, max(pred_bbox[2], gt_bbox[2], inter_box[2]) + 10)\n",
    "    plt.ylim(min(pred_bbox[1], gt_bbox[1], inter_box[1]) - 10, max(pred_bbox[3], gt_bbox[3], inter_box[3]) + 10)\n",
    "    plt.show()"
   ]
  },
  {
   "cell_type": "code",
   "execution_count": 40,
   "metadata": {},
   "outputs": [],
   "source": [
    "def get_IoU(pred_bbox, gt_bbox):\n",
    "    # 先转化成int坐标\n",
    "    pred_bbox = [int(i) for i in pred_bbox]\n",
    "    gt_bbox = [int(i) for i in gt_bbox]\n",
    "    \n",
    "    # 先算intersection的四个坐标\n",
    "    x_min = max(pred_bbox[0], gt_bbox[0])\n",
    "    x_max = min(pred_bbox[2], gt_bbox[2])\n",
    "    y_min = max(pred_bbox[1], gt_bbox[1])\n",
    "    y_max = min(pred_bbox[3], gt_bbox[3])\n",
    "    \n",
    "    # 然后算宽和高（但是有可能两个框不交互，这种情况置0的话，之后算iou就能算出是0了）\n",
    "    inter_width = max(0, x_max - x_min + 1)\n",
    "    inter_height = max(0, y_max - y_min + 1)\n",
    "    inter_area = inter_width * inter_height\n",
    "    print(f\"intersection area: {inter_area}\")\n",
    "    \n",
    "    # 计算IoU\n",
    "    pred_area = (pred_bbox[2] - pred_bbox[0]) * (pred_bbox[3] - pred_bbox[1])\n",
    "    gt_area = (gt_bbox[2] - gt_bbox[0]) * (gt_bbox[3] - gt_bbox[1])\n",
    "    \n",
    "    print(f\"pred_box area: {pred_area}\")\n",
    "    print(f\"gt_box area: {gt_area}\")\n",
    "    show_IoU(pred_bbox, gt_bbox, [x_min, y_min, x_max, y_max])\n",
    "    return inter_area / (pred_area + gt_area - inter_area)"
   ]
  },
  {
   "cell_type": "code",
   "execution_count": 41,
   "metadata": {},
   "outputs": [
    {
     "name": "stdout",
     "output_type": "stream",
     "text": [
      "intersection area: 441\n",
      "pred_box area: 2000\n",
      "gt_box area: 3500\n"
     ]
    },
    {
     "data": {
      "image/png": "[encoded data removed]",
      "text/plain": [
       "<Figure size 432x288 with 1 Axes>"
      ]
     },
     "metadata": {},
     "output_type": "display_data"
    },
    {
     "name": "stdout",
     "output_type": "stream",
     "text": [
      "0.08717137774263689\n"
     ]
    }
   ],
   "source": [
    "pred_bbox = np.array([50, 50, 90, 100])   # top-left: <50, 50>, bottom-down: <90, 100>, <x-axis, y-axis>\n",
    "gt_bbox = np.array([70, 80, 120, 150])\n",
    "print(get_IoU(pred_bbox, gt_bbox))"
   ]
  },
  {
   "cell_type": "code",
   "execution_count": null,
   "metadata": {},
   "outputs": [],
   "source": []
  }
 ],
 "metadata": {
  "kernelspec": {
   "display_name": "Python 3",
   "language": "python",
   "name": "python3"
  },
  "language_info": {
   "codemirror_mode": {
    "name": "ipython",
    "version": 3
   },
   "file_extension": ".py",
   "mimetype": "text/x-python",
   "name": "python",
   "nbconvert_exporter": "python",
   "pygments_lexer": "ipython3",
   "version": "3.6.5"
  }
 },
 "nbformat": 4,
 "nbformat_minor": 2
}
